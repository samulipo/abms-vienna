{
  "nbformat": 4,
  "nbformat_minor": 0,
  "metadata": {
    "colab": {
      "provenance": []
    },
    "kernelspec": {
      "name": "python3",
      "display_name": "Python 3"
    },
    "language_info": {
      "name": "python"
    }
  },
  "cells": [
    {
      "cell_type": "markdown",
      "source": [
        "# Playing with Python\n",
        "\n",
        "- date:: 2022-07-13\n",
        "\n",
        "The cells in this notebook have some ideas of things you can try out in Python. Some of them could be useful in tomorrow's workshop :)\n",
        "\n",
        "Feel free to work on the ones you find interesting, and create your own cells"
      ],
      "metadata": {
        "id": "AMIJlvVHXvIC"
      }
    },
    {
      "cell_type": "code",
      "source": [
        "# Hello World. According to the tradition, this is where it starts. Have colab say hi.\n"
      ],
      "metadata": {
        "id": "0tR1VCNUa62A"
      },
      "execution_count": null,
      "outputs": []
    },
    {
      "cell_type": "code",
      "source": [
        "# list comprehensions, building new lists from existing lists \n",
        "# what's in list b? print it out\n",
        "\n",
        "a = [1,2,3]\n",
        "b = [2*i for i in a] # builds a new list b from a by multiplying each of its cells by 2\n",
        "\n",
        "# your code below\n"
      ],
      "metadata": {
        "id": "1oBOGvrOioXZ"
      },
      "execution_count": null,
      "outputs": []
    },
    {
      "cell_type": "code",
      "source": [
        "# For, while, repeat ...\n",
        "\n",
        "for i in [1,2,3]:\n",
        "  print(i)"
      ],
      "metadata": {
        "id": "OxWFEtA0iXRU"
      },
      "execution_count": null,
      "outputs": []
    },
    {
      "cell_type": "code",
      "source": [
        "# using a for loop, go through the vienna_string and print each character separately\n",
        "\n",
        "vienna_string = 'Vienna summer school is so cool'\n",
        "\n",
        "# your code below\n"
      ],
      "metadata": {
        "id": "IrcqrunWjtZ0"
      },
      "execution_count": null,
      "outputs": []
    },
    {
      "cell_type": "code",
      "source": [
        "# explore the random module. find a method that gives you a random integer from a specified interval\n",
        "\n",
        "import random\n",
        "\n",
        "# 1. below, type 'random.r' and wait --> you get a list of methods\n",
        "\n",
        "\n",
        "# 2. to see the documentation on a specific method, write its call up to the brackets and wait\n",
        "\n",
        "random.choice() # first erase the brackets and then type an opening bracket, wait. a docstring appears\n"
      ],
      "metadata": {
        "id": "7M4iTGHrbPeU"
      },
      "execution_count": null,
      "outputs": []
    },
    {
      "cell_type": "code",
      "source": [
        "# ...3. try this\n",
        "\n",
        "random.choice?"
      ],
      "metadata": {
        "id": "8K-cpmKzmK5e"
      },
      "execution_count": null,
      "outputs": []
    },
    {
      "cell_type": "code",
      "source": [
        "# logical operators: use google to find out how logical operators (i.e. equivalence) work in Python\n"
      ],
      "metadata": {
        "id": "KQl5HFuYhYri"
      },
      "execution_count": null,
      "outputs": []
    },
    {
      "cell_type": "code",
      "source": [
        "# throwing dice: based on what you know about the random module and if statements, have colab throw dice, report each outcome, \n",
        "# and stop only once it gets a six\n",
        "\n",
        "six = False\n",
        "\n",
        "while not six:\n",
        "  # your code here\n",
        "  \n",
        "print('I got a six!')"
      ],
      "metadata": {
        "id": "67JO8jyQkhBj"
      },
      "execution_count": null,
      "outputs": []
    },
    {
      "cell_type": "code",
      "source": [
        "# build you first model\n",
        "\n",
        "\n"
      ],
      "metadata": {
        "id": "zfiSodE1X_sZ"
      },
      "execution_count": null,
      "outputs": []
    },
    {
      "cell_type": "code",
      "source": [
        "# define a *function* that returns the outcome of a dice throw. \n",
        "# As a parameter, you pass the number of sides of the dice\n",
        "# call the function to throw your dice"
      ],
      "metadata": {
        "id": "5CmGQjHsYQYA"
      },
      "execution_count": null,
      "outputs": []
    }
  ]
}