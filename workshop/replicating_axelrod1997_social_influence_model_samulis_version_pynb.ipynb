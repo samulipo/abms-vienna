{
  "cells": [
    {
      "cell_type": "markdown",
      "metadata": {
        "id": "Qde-N1kjJUO9"
      },
      "source": [
        "# Replicating Axelrod1997: Social influence model\n",
        "\n",
        "Samuli Reijula, 2022-07-14\n"
      ]
    },
    {
      "cell_type": "markdown",
      "metadata": {
        "id": "iLilbRlwJUO_"
      },
      "source": [
        "the original: \"the model is coded in Pascal. Running on Macintosh Quadra 700\""
      ]
    },
    {
      "cell_type": "code",
      "execution_count": null,
      "metadata": {
        "id": "TTfyGV0OJUPH"
      },
      "outputs": [],
      "source": [
        "# imports\n",
        "\n",
        "import random"
      ]
    },
    {
      "cell_type": "markdown",
      "metadata": {
        "id": "z5PJvXBvJUPA"
      },
      "source": [
        "## reading the paper"
      ]
    },
    {
      "cell_type": "markdown",
      "metadata": {
        "id": "qsqv8PqfJUPC"
      },
      "source": [
        "* agents don't move \n",
        "* q: if interaction makes people more similar, why don't all differences disappear?\n",
        "* 'culture': set of attributes that people influence others over \n",
        "* q: how does culture get sustained?\n",
        "* --> there are several existing explanations, this model provides a new one \n",
        "* theoretical premise: transfer of ideas occurs most frequently between people who are similar \n",
        "    * (SR: homophily)\n",
        "\n",
        "* comparison to existing models: they treat every feature of culture as independent\n"
      ]
    },
    {
      "cell_type": "markdown",
      "metadata": {
        "id": "OHlvYfJYJUPD"
      },
      "source": [
        "### assumptions of the model\n",
        "* interactions more likely to occur between people who are similar\n",
        "* for each **feature**, there is a set of **traits**, alternative values of the feature\n",
        "* **culture** described as a list of digits \n",
        "* cultural similarity: percentage of shared traits \n",
        "* geographic setting: static villages on a 10 x 10 grid \n",
        "* interaction: each site can only interact only with its immediate neighbors \n",
        "    * central sites of the terrain have 4 neighbors \n",
        "    * sides only 3\n",
        "    * corners 2\n",
        "* dynamics:\n",
        "    * step 1: randomly pick a site and its random neighbor \n",
        "    * step 2: these interact with a probability equal to their cultural similarity:\n",
        "        * choose randomly a feature on which the site and its neighbor differ (if such a feature exists) \n",
        "        * change site's trait to the same as the neighbor has\n",
        "* run up to 80000 time steps\n",
        "* **cultural region**: a set of contiguous sites with identical cultures \n",
        "* number of replications for each territory size: 40\n",
        "* **cultural zone**: set of contiguous sites that could interact (= share at least 1 trait)"
      ]
    },
    {
      "cell_type": "markdown",
      "metadata": {
        "id": "92BZOIhGJUPD"
      },
      "source": [
        "### findings\n",
        "* questions about the model\n",
        "    * does it converge? if yes, to what? how long does it take?\n",
        "    * how many stable regions there are? \n",
        "    \n",
        "* findings\n",
        "    * the model converges when for each cell, it's neighbors are either identical or completely different \n",
        "        * there are only **stable regions**\n",
        "    * as a simulation run proceeds, the number of regions decreases \n",
        "    * see table 2, can we replicate those findings?\n",
        "    * as the number of features increases, so does the likelihood of complete cultural convergence \n",
        "    * as the number of traits increases, the number of stable regions increases"
      ]
    },
    {
      "cell_type": "markdown",
      "metadata": {
        "id": "Fx1QrpcWJUPE"
      },
      "source": [
        "### variations and extensions of the model\n",
        "* variation (a): larger neighborhood, also corners included --> 8 neighbors \n",
        "* variation (b): diamond neighborhood, add to (a) distance 2 sites in cardinal directions \n",
        "* findings \n",
        "    * larger neighborhoods result in fewer stable regions \n",
        "* variation (c): 5 x 5 grid \n",
        "* variation (d): 15 x 15 grid \n",
        "* eventually up to (100 x 100)\n",
        "* variation (e): wrap territory\n",
        "    \n",
        "* all combinations of (a-b) * (c-d) tested in the original paper\n",
        "\n",
        "* findings\n",
        "    * interesting interactions between parameters, see p. 214-215\n",
        "    * read 215 --> \n",
        "    \n",
        "* suggested extensions \n",
        "    * cultural drift (spontaneous change in a trait)\n",
        "    * terrain effects (some sites less probably to interact)\n",
        "    * early geographical differences (nonrandom individual traits) \n",
        "    * status (some sites less likely to change than others)\n",
        "    * cultural attractiveness (some traits less likely to change than others)\n",
        "    * technological change (continuing introduction of new traits)\n",
        "    * material basis for culture (interaction between trait attractiveness and terrain)\n",
        "    * public education and broadcasting (some interactions come from widely disseminated messages)\n",
        "    * mobility\n",
        "    * organizational culture (substituting hierarchical for geographic neighborhoods)\n",
        "    * sociology of science (interaction between semi-isolated disciplines with drift, technological change, and organizational culture)\n",
        "    * cultural divergence (interaction between dissimilar sites causing greater cultural distance)"
      ]
    },
    {
      "cell_type": "markdown",
      "metadata": {
        "id": "K5BGRi_uJUPF"
      },
      "source": [
        "# Replication of the model"
      ]
    },
    {
      "cell_type": "markdown",
      "metadata": {
        "id": "7xunlHP_JUPG"
      },
      "source": [
        "## todo / ideas\n",
        "* derive cultural similarity matrix (size agents*agents)"
      ]
    },
    {
      "cell_type": "code",
      "execution_count": null,
      "metadata": {
        "id": "s4o8RVguJUPI"
      },
      "outputs": [],
      "source": [
        "# parameters\n",
        "\n",
        "FEATURES = 5             #5 # 10, 15\n",
        "TRAITS = 10               # 5 # 10, 15\n",
        "TERRITORY_SIZE = 10      # 10\n",
        "REPS_PER_TERRITORY = 500 # 40 \n",
        "MAX_TIME =  80000        # 10000 --> 80000"
      ]
    },
    {
      "cell_type": "code",
      "execution_count": null,
      "metadata": {
        "colab": {
          "base_uri": "https://localhost:8080/"
        },
        "id": "bjkgCgOGJUPJ",
        "outputId": "ae9070b0-de4a-4933-a97e-3af6859d6690"
      },
      "outputs": [
        {
          "output_type": "stream",
          "name": "stdout",
          "text": [
            "the grid: [[0, 0, 0], [0, 0, 0], [0, 0, 0]]\n"
          ]
        }
      ],
      "source": [
        "class Territory():\n",
        "    \"\"\"\n",
        "    an instance of the class 'Territory' has two properties: \n",
        "    * size\n",
        "    * grid: an array where each cell contains the feature vector of the respective agent\n",
        "    \"\"\"\n",
        "    \n",
        "    def __init__( self , size ):\n",
        "        self.size = size\n",
        "        self.grid = [ [0 for y in range( self.size )] for x in range( self.size ) ] # initializing a 2-dim array in pure python (i.e. without numpy) \n",
        "\n",
        "\n",
        "### TESTS ###\n",
        "t = Territory( size=3 ) # creates an instance of the class 'Territory', territory size given as a parameter\n",
        "print('the grid:' , t.grid)"
      ]
    },
    {
      "cell_type": "code",
      "execution_count": null,
      "metadata": {
        "colab": {
          "base_uri": "https://localhost:8080/"
        },
        "id": "YnWZ2B_7JUPK",
        "outputId": "9dc7922b-2b86-4877-9498-c2ec2eec7ba6"
      },
      "outputs": [
        {
          "output_type": "stream",
          "name": "stdout",
          "text": [
            "[3, 10, 5, 7, 10]\n"
          ]
        }
      ],
      "source": [
        "class Agent():\n",
        "    \"\"\"\n",
        "    an Agent has three properties:\n",
        "    * feature vector\n",
        "    * position\n",
        "    * list of references to neighbors\n",
        "    \"\"\"\n",
        "    \n",
        "    def __init__( self , features , traits ):\n",
        "        self.feature_vector = [ random.randint( 0 , traits ) for x in range( features ) ] # initialize an agent with a random culture vector\n",
        "        self.position = [0,0] # to be set later\n",
        "        self.neighbors = []\n",
        "    \n",
        "    \n",
        "    def __str__( self ):\n",
        "        \"\"\"\n",
        "        when defined, a __str__ function of a class allows printing an instance of a class\n",
        "        (you get to decide what information gets printed)\n",
        "        \"\"\"\n",
        "        return str( self.feature_vector )\n",
        "        \n",
        "        \n",
        "### TESTS ###\n",
        "a = Agent( FEATURES , TRAITS ) # create a random agent \n",
        "print(a) # print its culture\n"
      ]
    },
    {
      "cell_type": "code",
      "execution_count": null,
      "metadata": {
        "colab": {
          "base_uri": "https://localhost:8080/"
        },
        "id": "Z-it9cC5JUPL",
        "outputId": "c95df288-198a-4050-e98a-e206ef1bdfca"
      },
      "outputs": [
        {
          "output_type": "stream",
          "name": "stdout",
          "text": [
            "agent a: [10, 3, 1, 6, 7]\n",
            "agent b: [6, 1, 4, 2, 8]\n",
            "similarity: 0.0\n",
            "\n",
            "a: [10, 3, 1, 2, 7]\n",
            "b: [6, 1, 4, 2, 8]\n",
            "similarity: 0.2\n",
            "\n",
            "a 3x3 grid with a random population:\n",
            "position:  [0, 0] \t feature vector:  \t [0, 9, 10, 0, 7] \t neighbors:  [[1, 0], [0, 1]]\n",
            "position:  [1, 0] \t feature vector:  \t [4, 7, 0, 0, 8] \t neighbors:  [[0, 0], [2, 0], [1, 1]]\n",
            "position:  [2, 0] \t feature vector:  \t [5, 8, 10, 10, 3] \t neighbors:  [[1, 0], [2, 1]]\n",
            "position:  [0, 1] \t feature vector:  \t [0, 10, 4, 9, 6] \t neighbors:  [[1, 1], [0, 0], [0, 2]]\n",
            "position:  [1, 1] \t feature vector:  \t [7, 5, 9, 9, 3] \t neighbors:  [[0, 1], [2, 1], [1, 0], [1, 2]]\n",
            "position:  [2, 1] \t feature vector:  \t [3, 3, 7, 2, 6] \t neighbors:  [[1, 1], [2, 0], [2, 2]]\n",
            "position:  [0, 2] \t feature vector:  \t [3, 2, 5, 1, 7] \t neighbors:  [[1, 2], [0, 1]]\n",
            "position:  [1, 2] \t feature vector:  \t [10, 8, 7, 2, 5] \t neighbors:  [[0, 2], [2, 2], [1, 1]]\n",
            "position:  [2, 2] \t feature vector:  \t [6, 9, 1, 9, 5] \t neighbors:  [[1, 2], [2, 1]]\n",
            "\n",
            "unique cultures in the population:  [[0, 9, 10, 0, 7], [4, 7, 0, 0, 8], [5, 8, 10, 10, 3], [0, 10, 4, 9, 6], [7, 5, 9, 9, 3], [3, 3, 7, 2, 6], [3, 2, 5, 1, 7], [10, 8, 7, 2, 5], [6, 9, 1, 9, 5]]\n"
          ]
        }
      ],
      "source": [
        "class Population():\n",
        "    \n",
        "    def __init__( self , territory , features , traits ):\n",
        "        \"\"\"\n",
        "        when creating a Population, you pass to it a reference to a Territory, as well as the number of features \n",
        "        in the culture and the number of traits per feature\n",
        "        \"\"\"\n",
        "        self.agents = [] # this list will hold references to all agents on the grid \n",
        "        self.territory = territory\n",
        "        \n",
        "        # place a random agent in each grid position \n",
        "        for y in range( territory.size ):\n",
        "            for x in range( territory.size ):\n",
        "                a = Agent( features , traits )\n",
        "                a.position = [ x , y ]\n",
        "                territory.grid[x][y] = a\n",
        "                self.agents.append( a )\n",
        "                #print(territory.grid[x][y] , a)\n",
        "\n",
        "        # find each agent's neighbors \n",
        "        for focal_agent in self.agents:\n",
        "            focal_x = focal_agent.position[0]\n",
        "            focal_y = focal_agent.position[1]\n",
        "            neighborhood_positions = [ (-1,0) , (1,0) , (0,-1) , (0,1) ] # the von Neumann neighborhood around (0,0)\n",
        "            for n in neighborhood_positions:\n",
        "                    neighbor_x = focal_x + n[0]\n",
        "                    neighbor_y = focal_y + n[1]\n",
        "                    \n",
        "                    # make sure we're still on the grid\n",
        "                    # if yes, add a reference to the neighbor in the focal agent's list of neighbors\n",
        "                    if (neighbor_x >= 0 and neighbor_x <= (territory.size-1)) and \\\n",
        "                       (neighbor_y >= 0 and neighbor_y <= (territory.size-1)):\n",
        "                        focal_agent.neighbors.append( territory.grid[neighbor_x][neighbor_y] )\n",
        "                    #print(neighbor_x, neighbor_y , focal_agent.neighbors)\n",
        "    \n",
        "    \n",
        "    def similarity( agent1 , agent2 ):\n",
        "        \"\"\"\n",
        "        if the equals operator returns a True, this is treated as a 1. \n",
        "        The 1's can be summed, and this gives a handy way to count the proportion of identical traits between \n",
        "        two agents\n",
        "        \"\"\"\n",
        "        return sum([(agent1.feature_vector[i] == agent2.feature_vector[i]) for i in range(FEATURES)])/(FEATURES*1.0)\n",
        "        \n",
        "        # NOTE: multiplication by 1.0 makes sure we're using real numbers, not integers for the division\n",
        "        \n",
        "    \n",
        "#    def identical( agent1 , agent2):\n",
        "#        \"\"\"\n",
        "#        return True if two agents have the same feature vector\n",
        "#        \"\"\"\n",
        "#        return agent1.feature_vector == agent2.feature_vector\n",
        "    \n",
        "    \n",
        "    def adopt_trait( receiver , giver ):\n",
        "        \"\"\"\n",
        "        1. choose randomly a feature where the agent and its neighbor differ \n",
        "        2. change agent's trait to the same as the neighbor has\n",
        "        \"\"\"\n",
        "        #print(receiver)\n",
        "        #print(giver)\n",
        "        \n",
        "        found = False\n",
        "        while not found:\n",
        "            i = random.randint( 0 , FEATURES-1 )\n",
        "            found = ( receiver.feature_vector[i] != giver.feature_vector[i] ) # found is True if the traits are *not* the same\n",
        "        \n",
        "        receiver.feature_vector[i] = giver.feature_vector[i]\n",
        "        #print()\n",
        "        #print(receiver)\n",
        "        #print(giver)\n",
        "            \n",
        "            \n",
        "    def unique_cultures( self ):\n",
        "        \"\"\"\n",
        "        returns the list of unique cultures in the population\n",
        "        \"\"\"\n",
        "        culture_list = []\n",
        "        for a in self.agents:\n",
        "            if a.feature_vector not in culture_list:\n",
        "                culture_list.append( a.feature_vector )\n",
        "        return culture_list \n",
        "        \n",
        "        \n",
        "### TESTS ###\n",
        "\n",
        "a = Agent( FEATURES , TRAITS )\n",
        "#a.feature_vector = [1,1,1,1,1]\n",
        "print('agent a:' , a)\n",
        "\n",
        "b = Agent( FEATURES , TRAITS )\n",
        "#b.feature_vector = [1,1,1,1,1]\n",
        "\n",
        "print('agent b:' , b)\n",
        "print('similarity:' , Population.similarity( a , b ))\n",
        "print()\n",
        "            \n",
        "if not Population.similarity(a , b) == 1.0:\n",
        "    Population.adopt_trait(a , b)\n",
        "\n",
        "print('a:', a)\n",
        "print('b:', b)\n",
        "print('similarity:', Population.similarity( a , b))\n",
        "print()\n",
        "\n",
        "\n",
        "print('a 3x3 grid with a random population:')\n",
        "p = Population( Territory( 3 ) , FEATURES , TRAITS )\n",
        "for i in p.agents:\n",
        "    nlist = []\n",
        "    for n in i.neighbors:\n",
        "        nlist.append( n.position )\n",
        "        \n",
        "    print('position: ' , i.position ,'\\t', 'feature vector: ' ,'\\t', i.feature_vector ,'\\t', 'neighbors: ' , nlist)\n",
        "\n",
        "print()\n",
        "print( 'unique cultures in the population: ' , p.unique_cultures() )"
      ]
    },
    {
      "cell_type": "code",
      "execution_count": null,
      "metadata": {
        "id": "8lwu86mfJUPM"
      },
      "outputs": [],
      "source": [
        "class Game():\n",
        "    \"\"\"\n",
        "    A Game is one round of simulation from start to finish \n",
        "    \"\"\"\n",
        "    \n",
        "    def __init__( self , territory_size , features , traits , max_time ):\n",
        "        self.territory = Territory(territory_size)\n",
        "        self.population = Population( self.territory , features , traits )\n",
        "        self.max_time = max_time\n",
        "    \n",
        "    \n",
        "    def play_round( self ):\n",
        "        #i = random.randint( 0 , len(self.population.agents)-1 )\n",
        "        #focal_agent = self.population.agents[i]\n",
        "        focal_agent = random.choice( self.population.agents ) # choose a random agent\n",
        "        #print(focal_agent.feature_vector)\n",
        "        \n",
        "        neighbor_agent = random.choice( focal_agent.neighbors ) # choose a random neighbor\n",
        "        #print( neighbor_agent.feature_vector )\n",
        "        \n",
        "        #print(Population.similarity(focal_agent,neighbor_agent))\n",
        "        \n",
        "        trait_changed = False\n",
        "        if random.random() < Population.similarity( focal_agent , neighbor_agent ): # random.random() returns a real value between 0 and 1\n",
        "            #print('interacting')\n",
        "            if not (Population.similarity( focal_agent , neighbor_agent ) == 1.0):\n",
        "                Population.adopt_trait( focal_agent , neighbor_agent )\n",
        "                trait_changed = True\n",
        "                \n",
        "        return trait_changed\n",
        "            \n",
        "    \n",
        "    def play_game( self ):\n",
        "        traits_adopted = 0\n",
        "        \n",
        "        for r in range( self.max_time ):\n",
        "            #print('round' , round)\n",
        "            inc = self.play_round() # returns True (1) if a trait was adopted, otherwise False (0)\n",
        "            traits_adopted += inc\n",
        "        return traits_adopted\n",
        "        "
      ]
    },
    {
      "cell_type": "code",
      "execution_count": null,
      "metadata": {
        "colab": {
          "base_uri": "https://localhost:8080/"
        },
        "id": "ZsVvolX1JUPM",
        "outputId": "06849a51-456d-4fd2-b2c1-9d3d64497bb1"
      },
      "outputs": [
        {
          "output_type": "stream",
          "name": "stdout",
          "text": [
            "unique cultures in the beginning:  100\n",
            "adoption events: 22358\n",
            "unique cultures in the end:  18\n"
          ]
        }
      ],
      "source": [
        "# test run of the game \n",
        "\n",
        "g = Game( TERRITORY_SIZE , FEATURES , TRAITS , MAX_TIME )  \n",
        "print( 'unique cultures in the beginning: ' , len( g.population.unique_cultures() ) )\n",
        "\n",
        "changes_made = g.play_game()\n",
        "\n",
        "print( f'adoption events: {changes_made}' ) # this is called an f-string\n",
        "print( 'unique cultures in the end: ', len( g.population.unique_cultures() ) ) "
      ]
    },
    {
      "cell_type": "markdown",
      "metadata": {
        "id": "ar664lu4JUPN"
      },
      "source": [
        "## Model analysis"
      ]
    },
    {
      "cell_type": "code",
      "execution_count": null,
      "metadata": {
        "id": "sUo7z5SQJUPO"
      },
      "outputs": [],
      "source": [
        "import numpy as np\n",
        "\n",
        "import matplotlib.pyplot as plt\n",
        "%matplotlib inline"
      ]
    },
    {
      "cell_type": "code",
      "execution_count": null,
      "metadata": {
        "id": "fe6v7_UMJUPO"
      },
      "outputs": [],
      "source": [
        "# EXPERIMENT (1): NUMBER OF UNIQUE CULTURES\n",
        "\n",
        "unique_cultures_beginning = np.zeros( REPS_PER_TERRITORY )\n",
        "unique_cultures_end = np.zeros( REPS_PER_TERRITORY )\n",
        "#print(unique_cultures_end)\n",
        "\n",
        "for rep in range( REPS_PER_TERRITORY ):\n",
        "    g = Game( TERRITORY_SIZE , FEATURES , TRAITS , MAX_TIME ) \n",
        "    unique_cultures_beginning[rep] = len( g.population.unique_cultures() )\n",
        "    g.play_game()\n",
        "    unique_cultures_end[rep] = len( g.population.unique_cultures() )\n",
        "    "
      ]
    },
    {
      "cell_type": "code",
      "execution_count": null,
      "metadata": {
        "colab": {
          "base_uri": "https://localhost:8080/",
          "height": 229
        },
        "id": "TDNn4lYKJUPO",
        "outputId": "f16f4f12-a010-4f2d-a0cb-8beda2fe6e20"
      },
      "outputs": [
        {
          "output_type": "execute_result",
          "data": {
            "text/plain": [
              "<BarContainer object of 100 artists>"
            ]
          },
          "metadata": {},
          "execution_count": 32
        },
        {
          "output_type": "display_data",
          "data": {
            "text/plain": [
              "<Figure size 1080x216 with 1 Axes>"
            ],
            "image/png": "[encoded data removed]"
          },
          "metadata": {
            "needs_background": "light"
          }
        }
      ],
      "source": [
        "rep_number = list( range( REPS_PER_TERRITORY ) )\n",
        "\n",
        "fig, ax = plt.subplots(1, 1) \n",
        "fig.set_size_inches(15, 3)\n",
        "ax.bar( x=rep_number , height=unique_cultures_beginning )"
      ]
    },
    {
      "cell_type": "code",
      "execution_count": null,
      "metadata": {
        "id": "1NWlDZCqJUPP",
        "outputId": "204eb798-d064-43e6-cdd5-6ddf4b60a31d",
        "colab": {
          "base_uri": "https://localhost:8080/",
          "height": 229
        }
      },
      "outputs": [
        {
          "output_type": "execute_result",
          "data": {
            "text/plain": [
              "<BarContainer object of 100 artists>"
            ]
          },
          "metadata": {},
          "execution_count": 33
        },
        {
          "output_type": "display_data",
          "data": {
            "text/plain": [
              "<Figure size 1080x216 with 1 Axes>"
            ],
            "image/png": "[encoded data removed]"
          },
          "metadata": {
            "needs_background": "light"
          }
        }
      ],
      "source": [
        "fig, ax = plt.subplots(1, 1) \n",
        "fig.set_size_inches(15, 3)\n",
        "ax.bar( x=rep_number , height=unique_cultures_end )\n"
      ]
    },
    {
      "cell_type": "code",
      "execution_count": null,
      "metadata": {
        "id": "b8qL0tkXJUPP",
        "outputId": "e2526e86-6323-49e6-e04d-f1672261cb33",
        "colab": {
          "base_uri": "https://localhost:8080/"
        }
      },
      "outputs": [
        {
          "output_type": "stream",
          "name": "stdout",
          "text": [
            "Average of the number of unique cultures in the beginning: 99.92 and in the end: 7.3\n"
          ]
        }
      ],
      "source": [
        "print('Average of the number of unique cultures in the beginning:' ,\n",
        "      unique_cultures_beginning.mean() , \n",
        "      'and in the end:' , unique_cultures_end.mean() ) "
      ]
    },
    {
      "cell_type": "code",
      "execution_count": null,
      "metadata": {
        "id": "tXzCpyqRJUPP"
      },
      "outputs": [],
      "source": []
    }
  ],
  "metadata": {
    "kernelspec": {
      "display_name": "Python 3",
      "language": "python",
      "name": "python3"
    },
    "language_info": {
      "codemirror_mode": {
        "name": "ipython",
        "version": 3
      },
      "file_extension": ".py",
      "mimetype": "text/x-python",
      "name": "python",
      "nbconvert_exporter": "python",
      "pygments_lexer": "ipython3",
      "version": "3.8.5"
    },
    "colab": {
      "provenance": []
    }
  },
  "nbformat": 4,
  "nbformat_minor": 0
}