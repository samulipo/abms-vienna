{
  "cells": [
    {
      "cell_type": "markdown",
      "metadata": {
        "id": "fEJW38uv-sdJ"
      },
      "source": [
        "# Replicating Axelrod1997: Social influence model\n",
        "\n",
        "(your names), (date)\n"
      ]
    },
    {
      "cell_type": "markdown",
      "metadata": {
        "id": "i0nH-4Uu-sdK"
      },
      "source": [
        "the original: \"the model is coded in Pascal. Running on Macintosh Quadra 700\" ... how cool is that!\n",
        "\n"
      ]
    },
    {
      "cell_type": "markdown",
      "metadata": {
        "id": "VGRB81Za-sdM"
      },
      "source": [
        "## Reading the paper"
      ]
    },
    {
      "cell_type": "markdown",
      "metadata": {
        "id": "3qa8o7xX-sdN"
      },
      "source": [
        "### (a) assumptions of the model\n"
      ]
    },
    {
      "cell_type": "markdown",
      "metadata": {
        "id": "xVld9X2G-sdO"
      },
      "source": [
        "### (b) findings\n"
      ]
    },
    {
      "cell_type": "markdown",
      "metadata": {
        "id": "wlVPqHgI-sdO"
      },
      "source": [
        "### (c) variations and extensions of the model\n"
      ]
    },
    {
      "cell_type": "markdown",
      "metadata": {
        "id": "PEayUvAW-sdP"
      },
      "source": [
        "# Replication of the model"
      ]
    },
    {
      "cell_type": "markdown",
      "metadata": {
        "id": "pQGcnqWy-sdQ"
      },
      "source": [
        "## todo / ideas\n",
        "* your ideas here"
      ]
    },
    {
      "cell_type": "code",
      "execution_count": null,
      "metadata": {
        "id": "2yUR6G1N-sdQ"
      },
      "outputs": [],
      "source": [
        "# imports\n",
        "\n",
        "import random"
      ]
    },
    {
      "cell_type": "code",
      "execution_count": null,
      "metadata": {
        "id": "wxLHa89z-sdS"
      },
      "outputs": [],
      "source": [
        "# parameters\n",
        "\n",
        "FEATURES = 5             #5 # 10, 15\n",
        "TRAITS = 10              # 5 # 10, 15\n",
        "TERRITORY_SIZE = 10      # 10\n",
        "REPS_PER_TERRITORY = 100 # 40 \n",
        "MAX_TIME =  80000        # 10000 --> 80000"
      ]
    },
    {
      "cell_type": "code",
      "execution_count": null,
      "metadata": {
        "id": "7meIB8_C-sdS"
      },
      "outputs": [],
      "source": [
        "class Territory():\n",
        "    \"\"\"\n",
        "    an instance of the class 'Territory' has two properties: \n",
        "    * size\n",
        "    * grid: an array where each cell contains the feature vector of the respective agent\n",
        "    \"\"\"\n",
        "    \n",
        "    def __init__( self , size ):\n",
        "        self.size = size\n",
        "        self.grid = [ [[0] for y in range( self.size )] for x in range( self.size ) ] # initializing a 2-dim array in pure python (i.e. without numpy) \n",
        "\n",
        "\n",
        "### TESTS ###\n",
        "t = Territory( size=3 ) # creates an instance of the class 'Territory', territory size given as a parameter\n",
        "print('the grid:' , t.grid)\n",
        "\n",
        "# run the cell to see what happens"
      ]
    },
    {
      "cell_type": "code",
      "execution_count": null,
      "metadata": {
        "id": "sAy0DEVy-sdT"
      },
      "outputs": [],
      "source": [
        "class Agent():\n",
        "    \"\"\"\n",
        "    an Agent has three properties:\n",
        "    * feature vector\n",
        "    * position\n",
        "    * list of references to neighbors\n",
        "    \"\"\"\n",
        "    \n",
        "    def __init__( self , features , traits ):\n",
        "        self.feature_vector = [ random.randint( 0 , traits ) for x in range( features ) ] # initialize an agent with a random culture vector\n",
        "        self.position = [0,0] # to be set later\n",
        "        self.neighbors = []\n",
        "    \n",
        "    \n",
        "    def __str__( self ):\n",
        "        \"\"\"\n",
        "        when defined, a __str__ function of a class allows printing an instance of a class\n",
        "        (you get to decide what information gets printed)\n",
        "        \"\"\"\n",
        "        return str( self.feature_vector )\n",
        "        \n",
        "        \n",
        "### TESTS ###\n",
        "\n",
        "# create an instance of the Agent class \n",
        "# print the culture of that agent\n"
      ]
    },
    {
      "cell_type": "code",
      "execution_count": null,
      "metadata": {
        "id": "q_Jhd2Hr-sdU"
      },
      "outputs": [],
      "source": [
        "class Population():\n",
        "    \n",
        "    def __init__( self , territory , features , traits ):\n",
        "        \"\"\"\n",
        "        when creating a Population, you pass to it a reference to a Territory, as well as the number of features \n",
        "        in the culture and the number of traits per feature\n",
        "        \"\"\"\n",
        "        self.agents = [] # this list will hold references to all agents on the grid \n",
        "        self.territory = territory\n",
        "        \n",
        "        # place a random agent in each grid position \n",
        "        for y in range( territory.size ):\n",
        "            for x in range( territory.size ):\n",
        "                a = Agent( features , traits )\n",
        "                a.position = [ x , y ]\n",
        "                territory.grid[x][y] = a\n",
        "                self.agents.append( a )\n",
        "                #print(territory.grid[x][y] , a)\n",
        "\n",
        "        # find each agent's neighbors \n",
        "        for focal_agent in self.agents:\n",
        "            focal_x = focal_agent.position[0]\n",
        "            focal_y = focal_agent.position[1]\n",
        "            neighborhood_positions = [ (-1,0) , (1,0) , (0,-1) , (0,1) ] # the von Neumann neighborhood around (0,0)\n",
        "            for n in neighborhood_positions:\n",
        "                    neighbor_x = focal_x + n[0]\n",
        "                    neighbor_y = focal_y + n[1]\n",
        "                    \n",
        "                    # make sure we're still on the grid\n",
        "                    # if yes, add a reference to the neighbor in the focal agent's list of neighbors\n",
        "                    if (neighbor_x >= 0 and neighbor_x <= (territory.size-1)) and \\\n",
        "                       (neighbor_y >= 0 and neighbor_y <= (territory.size-1)):\n",
        "                        focal_agent.neighbors.append( territory.grid[neighbor_x][neighbor_y] )\n",
        "                    #print(neighbor_x, neighbor_y , focal_agent.neighbors)\n",
        "    \n",
        "    \n",
        "    def similarity( agent1 , agent2 ):\n",
        "        \"\"\"\n",
        "        calculate the similarity between two agents\n",
        "        \n",
        "        \"\"\"\n",
        "\n",
        "        # your code goes here\n",
        "\n",
        "        return #the quantity you calculated\n",
        "        \n",
        "    \n",
        "    \n",
        "    def adopt_trait( receiver , giver ):\n",
        "        \"\"\"\n",
        "        1. choose randomly a feature where the agent and its neighbor differ \n",
        "        2. change agent's trait to the same as the neighbor has\n",
        "        \"\"\"\n",
        "        \n",
        "        # your code goes here\n",
        "            \n",
        "            \n",
        "    def unique_cultures( self ):\n",
        "        \"\"\"\n",
        "        returns the list of unique cultures in the population\n",
        "        \"\"\"\n",
        "        \n",
        "        # your code goes here\n",
        "        \n",
        "        \n",
        "### TESTS ###\n",
        "\n",
        "# create an instance of Population, write tests for the methods above\n"
      ]
    },
    {
      "cell_type": "code",
      "execution_count": null,
      "metadata": {
        "id": "1ArgwYr4-sdV"
      },
      "outputs": [],
      "source": [
        "class Game():\n",
        "    \"\"\"\n",
        "    A Game is one round of simulation from start to finish \n",
        "    \"\"\"\n",
        "    \n",
        "    def __init__( self , territory_size , features , traits , max_time ):\n",
        "        self.territory = Territory(territory_size)\n",
        "        self.population = Population( self.territory , features , traits )\n",
        "        self.max_time = max_time\n",
        "    \n",
        "    \n",
        "    def play_round( self ):\n",
        "        \n",
        "        # your code goes here\n",
        "            \n",
        "    \n",
        "    def play_game( self ):\n",
        "        # your code goes here\n",
        "        "
      ]
    },
    {
      "cell_type": "markdown",
      "metadata": {
        "id": "jc0Ao9cf-sdW"
      },
      "source": [
        "## Model analysis"
      ]
    },
    {
      "cell_type": "code",
      "execution_count": null,
      "metadata": {
        "id": "kT8hGL-G-sdW"
      },
      "outputs": [],
      "source": [
        "import numpy as np\n",
        "\n",
        "import matplotlib.pyplot as plt\n",
        "%matplotlib inline"
      ]
    },
    {
      "cell_type": "code",
      "execution_count": null,
      "metadata": {
        "id": "E0H5Vg81-sdW"
      },
      "outputs": [],
      "source": [
        "# EXPERIMENT (1): NUMBER OF UNIQUE CULTURES\n",
        "\n",
        "unique_cultures_beginning = np.zeros( REPS_PER_TERRITORY )\n",
        "unique_cultures_end = np.zeros( REPS_PER_TERRITORY )\n",
        "\n",
        "for rep in range( REPS_PER_TERRITORY ):\n",
        "    g = Game( TERRITORY_SIZE , FEATURES , TRAITS , MAX_TIME ) \n",
        "    unique_cultures_beginning[rep] = len( g.population.unique_cultures() )\n",
        "    g.play_game()\n",
        "    unique_cultures_end[rep] = len( g.population.unique_cultures() )\n",
        "    "
      ]
    },
    {
      "cell_type": "code",
      "execution_count": null,
      "metadata": {
        "id": "GoMcnzwX-sdX"
      },
      "outputs": [],
      "source": [
        "rep_number = list( range( REPS_PER_TERRITORY ) )\n",
        "\n",
        "plt.bar( x=rep_number , height=unique_cultures_beginning )"
      ]
    },
    {
      "cell_type": "code",
      "execution_count": null,
      "metadata": {
        "id": "HRjjARIE-sdX"
      },
      "outputs": [],
      "source": [
        "plt.bar( x=rep_number , height=unique_cultures_end )"
      ]
    },
    {
      "cell_type": "code",
      "execution_count": null,
      "metadata": {
        "id": "R_9IBm0T-sdY"
      },
      "outputs": [],
      "source": [
        "print('Average of the number of unique cultures in the beginning:' ,\n",
        "      unique_cultures_beginning.mean() , \n",
        "      'and in the end:' , unique_cultures_end.mean() ) "
      ]
    }
  ],
  "metadata": {
    "kernelspec": {
      "display_name": "Python 3",
      "language": "python",
      "name": "python3"
    },
    "language_info": {
      "codemirror_mode": {
        "name": "ipython",
        "version": 3
      },
      "file_extension": ".py",
      "mimetype": "text/x-python",
      "name": "python",
      "nbconvert_exporter": "python",
      "pygments_lexer": "ipython3",
      "version": "3.8.5"
    },
    "colab": {
      "provenance": []
    }
  },
  "nbformat": 4,
  "nbformat_minor": 0
}