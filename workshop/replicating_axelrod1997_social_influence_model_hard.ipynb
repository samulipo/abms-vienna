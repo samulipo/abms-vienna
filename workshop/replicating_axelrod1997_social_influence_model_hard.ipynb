{
  "cells": [
    {
      "cell_type": "markdown",
      "metadata": {
        "id": "-EHz6MJT8FCa"
      },
      "source": [
        "# Replicating Axelrod1997: Social influence model\n",
        "\n",
        "(your names), (date)\n"
      ]
    },
    {
      "cell_type": "markdown",
      "metadata": {
        "id": "xIYYtLd38FCc"
      },
      "source": [
        "the original: \"the model is coded in Pascal. Running on Macintosh Quadra 700\" ... how cool is that!"
      ]
    },
    {
      "cell_type": "markdown",
      "metadata": {
        "id": "X8pBayVr8FCd"
      },
      "source": [
        "## Reading the paper"
      ]
    },
    {
      "cell_type": "markdown",
      "metadata": {
        "id": "0-MgLdyC8FCg"
      },
      "source": [
        "### (a) assumptions of the model\n"
      ]
    },
    {
      "cell_type": "markdown",
      "metadata": {
        "id": "ZRNSNe4H8FCh"
      },
      "source": [
        "### (b) findings\n"
      ]
    },
    {
      "cell_type": "markdown",
      "metadata": {
        "id": "ArNaH4wq8FCi"
      },
      "source": [
        "### (c) variations and extensions of the model\n"
      ]
    },
    {
      "cell_type": "markdown",
      "metadata": {
        "id": "8jAeRL6B8FCi"
      },
      "source": [
        "# Replication of the model"
      ]
    },
    {
      "cell_type": "markdown",
      "metadata": {
        "id": "7KUbRTZT8FCj"
      },
      "source": [
        "## todo / ideas\n",
        "\n",
        "* your ideas here"
      ]
    },
    {
      "cell_type": "code",
      "execution_count": null,
      "metadata": {
        "id": "dx6IvAgJ8FCl"
      },
      "outputs": [],
      "source": [
        "# imports\n",
        "\n",
        "import random"
      ]
    },
    {
      "cell_type": "code",
      "execution_count": null,
      "metadata": {
        "id": "YGo0JHo68FCm"
      },
      "outputs": [],
      "source": [
        "# parameters\n",
        "\n",
        "FEATURES = 5             #5 # 10, 15\n",
        "TRAITS = 10               # 5 # 10, 15\n",
        "TERRITORY_SIZE = 10      # 10\n",
        "REPS_PER_TERRITORY = 100 # 40 \n",
        "MAX_TIME =  80000        # 10000 --> 80000"
      ]
    },
    {
      "cell_type": "code",
      "execution_count": null,
      "metadata": {
        "id": "smCbNlCl8FCm"
      },
      "outputs": [],
      "source": [
        "class Territory():\n",
        "    \"\"\"\n",
        "    an instance of the class 'Territory' has two properties: \n",
        "    * size\n",
        "    * grid: an array where each cell contains the feature vector of the respective agent\n",
        "    \"\"\"\n",
        "    \n",
        "    def __init__( self , size ):\n",
        "      # your code here\n",
        "        \n",
        "\n",
        "### TESTS ###\n",
        "\n",
        "# your code here"
      ]
    },
    {
      "cell_type": "code",
      "execution_count": null,
      "metadata": {
        "id": "_C0yMBQ68FCn"
      },
      "outputs": [],
      "source": [
        "class Agent():\n",
        "    \"\"\"\n",
        "    an Agent has three properties:\n",
        "    * feature vector\n",
        "    * position\n",
        "    * list of references to neighbors\n",
        "    \"\"\"\n",
        "    \n",
        "    def __init__( self , features , traits ):\n",
        "        # your code here\n",
        "    \n",
        "    \n",
        "    def __str__( self ):\n",
        "        \"\"\"\n",
        "        when defined, a __str__ function of a class allows printing an instance of a class\n",
        "        (you get to decide what information gets printed)\n",
        "        \"\"\"\n",
        "        return str( self.feature_vector )\n",
        "        \n",
        "        \n",
        "### TESTS ###\n",
        "\n",
        "# your code here"
      ]
    },
    {
      "cell_type": "code",
      "execution_count": null,
      "metadata": {
        "id": "zOLiYFPI8FCo"
      },
      "outputs": [],
      "source": [
        "class Population():\n",
        "    \n",
        "    def __init__( self , territory , features , traits ):\n",
        "      # your code here\n",
        "        \n",
        "    \n",
        "    def similarity( agent1 , agent2 ):\n",
        "      \"\"\"\n",
        "      returns the similarity between two agents\n",
        "      \"\"\"\n",
        "      # your code here\n",
        "        \n",
        "    \n",
        "    def adopt_trait( receiver , giver ):\n",
        "      \"\"\"\n",
        "      receiver adopts a trait from giver, as specified in the paper\n",
        "      \"\"\"\n",
        "      # your code here\n",
        "            \n",
        "            \n",
        "    def unique_cultures( self ):\n",
        "        \"\"\"\n",
        "        returns the list of unique cultures in the population\n",
        "        \"\"\"\n",
        "        # your code here\n",
        "        \n",
        "        \n",
        "        \n",
        "### TESTS ###\n",
        "\n",
        "# your code here"
      ]
    },
    {
      "cell_type": "code",
      "execution_count": null,
      "metadata": {
        "id": "wPBFlALn8FCp"
      },
      "outputs": [],
      "source": [
        "class Game():\n",
        "    \"\"\"\n",
        "    A Game is one round of simulation from start to finish \n",
        "    \"\"\"\n",
        "    \n",
        "    def __init__( self , territory_size , features , traits , max_time ):\n",
        "        # your code here\n",
        "    \n",
        "    def play_round( self ):\n",
        "        # your code here\n",
        "            \n",
        "    \n",
        "    def play_game( self ):\n",
        "        # your code here\n",
        "        "
      ]
    },
    {
      "cell_type": "markdown",
      "metadata": {
        "id": "3mx9pyJX8FCq"
      },
      "source": [
        "## Model analysis"
      ]
    },
    {
      "cell_type": "code",
      "execution_count": null,
      "metadata": {
        "id": "3ijhgBIc8FCr"
      },
      "outputs": [],
      "source": [
        "import numpy as np\n",
        "\n",
        "import matplotlib.pyplot as plt\n",
        "%matplotlib inline"
      ]
    },
    {
      "cell_type": "code",
      "execution_count": null,
      "metadata": {
        "id": "HNf8jW0A8FCq"
      },
      "outputs": [],
      "source": [
        "# EXPERIMENT (1): NUMBER OF UNIQUE CULTURES\n",
        "\n",
        "# run the game REPS_PER_TERRITORY times, take averages of unique cultures in the beginning and in the end\n",
        "\n",
        "# your code here\n"
      ]
    }
  ],
  "metadata": {
    "kernelspec": {
      "display_name": "Python 3",
      "language": "python",
      "name": "python3"
    },
    "language_info": {
      "codemirror_mode": {
        "name": "ipython",
        "version": 3
      },
      "file_extension": ".py",
      "mimetype": "text/x-python",
      "name": "python",
      "nbconvert_exporter": "python",
      "pygments_lexer": "ipython3",
      "version": "3.8.5"
    },
    "colab": {
      "provenance": []
    }
  },
  "nbformat": 4,
  "nbformat_minor": 0
}